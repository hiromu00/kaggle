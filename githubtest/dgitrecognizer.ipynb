
import pandas as pd
import numpy as np
from sklearn.model_selection import train_test_split
from keras.utils.np_utils import to_categorical
from keras.models import Sequential
from keras.layers import Dense, Dropout, Flatten, Conv2D, MaxPool2D, BatchNormalization
from keras.preprocessing.image import ImageDataGenerator
from keras.callbacks import LearningRateScheduler
＃カグルで動かすときは下記必須
import os
for dirname, _, filenames in os.walk('/kaggle/input'):
    for filename in filenames:
    print(os.path.join(dirname, filename)


            train = pd.read_csv("../input/train.csv")
            test = pd.read_csv("../input/test.csv")

            train.head()

            test.head()

#ニューラルネットワークの準備データ
            Y_train = train["label"]
            X_train = train.drop(labels = ["label"],axis = 1)
            X_train = X_train / 255.0
            X_test = test / 255.0
            X_train = X_train.values.reshape(-1,28,28,1)
            X_test = X_test.values.reshape(-1,28,28,1)
            Y_train = to_categorical(Y_train, num_classes = 10)


            import matplotlib.pyplot as plt
# 画像のプレビュー


plt.figure(figsize=(15,4.5))
    for i in range(30):
    plt.subplot(3, 10, i+1)
    plt.imshow(X_train[i].reshape((28,28)),cmap=plt.cm.binary)
    plt.axis('off')
    plt.subplots_adjust(wspace=-0.1, hspace=-0.1)
    plt.show()

# より多くの画像を作成する
    datagen = ImageDataGenerator(
            rotation_range=10,
            zoom_range = 0.10,
            width_shift_range=0.1,
            height_shift_range=0.1)

# 上で新たに作った画像のプレビューをだす
    X_train3 = X_train[9,].reshape((1,28,28,1))
    Y_train3 = Y_train[9,].reshape((1,10))
plt.figure(figsize=(15,4.5))
    for i in range(30):
    plt.subplot(3, 10, i+1)
    X_train2, Y_train2 = datagen.flow(X_train3,Y_train3).next()
    plt.imshow(X_train2[0].reshape((28,28)),cmap=plt.cm.binary)
    plt.axis('off')
    if i==9: X_train3 = X_train[11,].reshape((1,28,28,1))
    if i==19: X_train3 = X_train[18,].reshape((1,28,28,1))
    plt.subplots_adjust(wspace=-0.1, hspace=-0.1)
    plt.show()


#ニュートラルネットワークの構築
    nets = 15
    model = [0] *nets
    for j in range(nets):
        model[j] = Sequential()

    model[j].add(Conv2D(32, kernel_size = 3, activation='relu', input_shape = (28, 28, 1)))
model[j].add(BatchNormalization())
    model[j].add(Conv2D(32, kernel_size = 3, activation='relu'))
model[j].add(BatchNormalization())
    model[j].add(Conv2D(32, kernel_size = 5, strides=2, padding='same', activation='relu'))
    model[j].add(BatchNormalization())
model[j].add(Dropout(0.4))

    model[j].add(Conv2D(64, kernel_size = 3, activation='relu'))
model[j].add(BatchNormalization())
    model[j].add(Conv2D(64, kernel_size = 3, activation='relu'))
model[j].add(BatchNormalization())
    model[j].add(Conv2D(64, kernel_size = 5, strides=2, padding='same', activation='relu'))
    model[j].add(BatchNormalization())
model[j].add(Dropout(0.4))

    model[j].add(Conv2D(128, kernel_size = 4, activation='relu'))
    model[j].add(BatchNormalization())
    model[j].add(Flatten())
model[j].add(Dropout(0.4))
    model[j].add(Dense(10, activation='softmax'))

# COMPILE WITH ADAM OPTIMIZER AND CROSS ENTROPY COST
    model[j].compile(optimizer="adam", loss="categorical_crossentropy", metrics=["accuracy"])


#エポックごとに学習率を下げてみる。これで過学習は防げるはず。。？
annealer = LearningRateScheduler(lambda x: 1e-3 * 0.95 ** x)
#Trainのネットワーク
    history = [0] * nets
    epochs = 45
    for j in range(nets):
        X_train2, X_val2, Y_train2, Y_val2 = train_test_split(X_train, Y_train, test_size = 0.1)
        history[j] = model[j].fit_generator(datagen.flow(X_train2,Y_train2, batch_size=64),
                epochs = epochs, steps_per_epoch = X_train2.shape[0]//64,
                validation_data = (X_val2,Y_val2), callbacks=[annealer], verbose=0)
        print("CNN {0:d}: Epochs={1:d}, Train accuracy={2:.5f}, Validation accuracy={3:.5f}".format(
                    j+1,epochs,max(history[j].history['acc']),max(history[j].history['val_acc']) ))

# 結果の予測と提出csvの作成
results = np.zeros( (X_test.shape[0],10) )
    for j in range(nets):
    results = results + model[j].predict(X_test)
    results = np.argmax(results,axis = 1)
    results = pd.Series(results,name="Label")
    submission = pd.concat([pd.Series(range(1,28001),name = "ImageId"),results],axis = 1)
    submission.to_csv("MNIST-CNN-RESULT.csv",index=False)


# プレビューの予測もしてみる。
    plt.figure(figsize=(15,6))
    for i in range(40):
    plt.subplot(4, 10, i+1)
    plt.imshow(X_test[i].reshape((28,28)),cmap=plt.cm.binary)
    plt.title("predict=%d" % results[i],y=0.9)
    plt.axis('off')
    plt.subplots_adjust(wspace=0.3, hspace=-0.1)
    plt.show()
